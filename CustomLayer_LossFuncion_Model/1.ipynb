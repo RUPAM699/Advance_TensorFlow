{
 "cells": [
  {
   "cell_type": "markdown",
   "metadata": {},
   "source": [
    "### Sequential and Functional API"
   ]
  },
  {
   "cell_type": "code",
   "execution_count": 15,
   "metadata": {},
   "outputs": [],
   "source": [
    "import tensorflow as tf\n",
    "from tensorflow.keras.models import Model\n",
    "from tensorflow.keras.layers import Input\n",
    "from tensorflow.keras.utils import plot_model\n",
    "import pydot\n"
   ]
  },
  {
   "cell_type": "code",
   "execution_count": 3,
   "metadata": {},
   "outputs": [],
   "source": [
    "mnist = tf.keras.datasets.mnist"
   ]
  },
  {
   "cell_type": "code",
   "execution_count": 16,
   "metadata": {},
   "outputs": [],
   "source": [
    "def model_sequential():\n",
    "    seq_model = tf.keras.models.Sequential(\n",
    "        [tf.keras.layers.Flatten(input_shape = (28,28)),\n",
    "         tf.keras.layers.Dense(128,activation=tf.nn.relu),\n",
    "         tf.keras.layers.Dense(64,activation=tf.nn.relu),\n",
    "         tf.keras.layers.Dense(10,activation=tf.nn.softmax)]\n",
    "\t)\n",
    "    return seq_model"
   ]
  },
  {
   "cell_type": "code",
   "execution_count": null,
   "metadata": {},
   "outputs": [],
   "source": [
    "def model_functional():\n",
    "    input = tf.keras.Input(shape=(28,28))\n",
    "    flatten_later = tf.keras.layers.Flatten()(input)\n",
    "    "
   ]
  },
  {
   "cell_type": "code",
   "execution_count": 17,
   "metadata": {},
   "outputs": [
    {
     "name": "stdout",
     "output_type": "stream",
     "text": [
      "You must install pydot (`pip install pydot`) for `plot_model` to work.\n"
     ]
    }
   ],
   "source": [
    "model_1 = model_sequential()\n",
    "plot_model(model_1,show_shapes=True,show_layer_names=True,show_layer_activations=True,to_file=\"model.png\")"
   ]
  },
  {
   "cell_type": "code",
   "execution_count": null,
   "metadata": {},
   "outputs": [],
   "source": [
    "(train_image,train_label),(test_image,test_lable) = mnist.load_data()\n",
    "\n",
    "train_image_scale = train_image/255\n",
    "test_image_scale  = test_image/255\n"
   ]
  }
 ],
 "metadata": {
  "kernelspec": {
   "display_name": "Python 3",
   "language": "python",
   "name": "python3"
  },
  "language_info": {
   "codemirror_mode": {
    "name": "ipython",
    "version": 3
   },
   "file_extension": ".py",
   "mimetype": "text/x-python",
   "name": "python",
   "nbconvert_exporter": "python",
   "pygments_lexer": "ipython3",
   "version": "3.12.6"
  }
 },
 "nbformat": 4,
 "nbformat_minor": 2
}
